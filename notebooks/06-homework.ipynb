{
 "cells": [
  {
   "cell_type": "code",
   "execution_count": 1,
   "id": "e0314749-3474-456e-bb99-ee8e4f4d9c9e",
   "metadata": {
    "tags": []
   },
   "outputs": [],
   "source": [
    "import numpy as np\n",
    "import pandas as pd\n",
    "import matplotlib.pyplot as plt\n",
    "import nltk\n",
    "from nltk.corpus import stopwords\n",
    "from nltk.stem.snowball import SnowballStemmer\n",
    "from sklearn.feature_extraction.text import CountVectorizer\n",
    "from sklearn.feature_extraction.text import TfidfVectorizer\n",
    "from sklearn.linear_model import LogisticRegression\n",
    "from sklearn.ensemble import RandomForestClassifier\n",
    "from sklearn.model_selection import train_test_split\n",
    "from sklearn.metrics import f1_score\n",
    "import warnings\n",
    "warnings.filterwarnings(action='ignore')"
   ]
  },
  {
   "cell_type": "code",
   "execution_count": 2,
   "id": "89047846-4268-4565-b9e2-78c9ca55beea",
   "metadata": {
    "tags": []
   },
   "outputs": [
    {
     "name": "stderr",
     "output_type": "stream",
     "text": [
      "[nltk_data] Downloading package stopwords to /home/andrej/nltk_data...\n",
      "[nltk_data]   Package stopwords is already up-to-date!\n"
     ]
    }
   ],
   "source": [
    "data = pd.read_csv('../data/singa.csv')\n",
    "nltk_stem = SnowballStemmer(\"english\")\n",
    "nltk.download('stopwords')\n",
    "stop_words = set(stopwords.words('english'))"
   ]
  },
  {
   "cell_type": "markdown",
   "id": "2b71aeb4-1bfe-4cf1-8626-8d3fc15e5d78",
   "metadata": {},
   "source": [
    "Ниже предобработка текста. \n",
    "Регулярным выражением уберем пунктуацию, через stop_words nltk уберем лишнее, а для стемминга воспользуемся Snowball из nltk. "
   ]
  },
  {
   "cell_type": "code",
   "execution_count": 3,
   "id": "35d3f195-1eb3-4a72-8b1d-e93ee6646315",
   "metadata": {
    "tags": []
   },
   "outputs": [],
   "source": [
    "import re\n",
    "def shave_string(text):\n",
    "    regex_shave = re.sub('[()-:?!,.\\\"\\'\\n]', '', str(text)).lower().split()\n",
    "    stop_shave = [w for w in regex_shave if not w in stop_words]\n",
    "    stem_shave = map(nltk_stem.stem, stop_shave)\n",
    "    return ' '.join(stem_shave)"
   ]
  },
  {
   "cell_type": "code",
   "execution_count": 4,
   "id": "cee7d15f-7942-4a54-9539-159998f59616",
   "metadata": {
    "tags": []
   },
   "outputs": [
    {
     "data": {
      "text/plain": [
       "'prick face saw gyatt'"
      ]
     },
     "execution_count": 4,
     "metadata": {},
     "output_type": "execute_result"
    }
   ],
   "source": [
    "test = \"..How about that prick's face when we saw the gyatt??\"\n",
    "shave_string(test)"
   ]
  },
  {
   "cell_type": "code",
   "execution_count": 5,
   "id": "91f5c5db-e4a3-4cb2-91e1-e8a90b705763",
   "metadata": {
    "tags": []
   },
   "outputs": [
    {
     "data": {
      "text/html": [
       "<div>\n",
       "<style scoped>\n",
       "    .dataframe tbody tr th:only-of-type {\n",
       "        vertical-align: middle;\n",
       "    }\n",
       "\n",
       "    .dataframe tbody tr th {\n",
       "        vertical-align: top;\n",
       "    }\n",
       "\n",
       "    .dataframe thead th {\n",
       "        text-align: right;\n",
       "    }\n",
       "</style>\n",
       "<table border=\"1\" class=\"dataframe\">\n",
       "  <thead>\n",
       "    <tr style=\"text-align: right;\">\n",
       "      <th></th>\n",
       "      <th>rating</th>\n",
       "      <th>text</th>\n",
       "      <th>title</th>\n",
       "      <th>all text</th>\n",
       "    </tr>\n",
       "  </thead>\n",
       "  <tbody>\n",
       "    <tr>\n",
       "      <th>0</th>\n",
       "      <td>3</td>\n",
       "      <td>use airlin go singapor london heathrow issu ti...</td>\n",
       "      <td>ok</td>\n",
       "      <td>use airlin go singapor london heathrow issu ti...</td>\n",
       "    </tr>\n",
       "    <tr>\n",
       "      <th>1</th>\n",
       "      <td>5</td>\n",
       "      <td>servic singapor airlin suit class noth excel c...</td>\n",
       "      <td>servic suit class make one feel like vip</td>\n",
       "      <td>servic singapor airlin suit class noth excel c...</td>\n",
       "    </tr>\n",
       "    <tr>\n",
       "      <th>2</th>\n",
       "      <td>1</td>\n",
       "      <td>book paid receiv email confirm extra legroom s...</td>\n",
       "      <td>don't give money</td>\n",
       "      <td>book paid receiv email confirm extra legroom s...</td>\n",
       "    </tr>\n",
       "    <tr>\n",
       "      <th>3</th>\n",
       "      <td>5</td>\n",
       "      <td>best airlin world seat food servic brilliant c...</td>\n",
       "      <td>best airlin world</td>\n",
       "      <td>best airlin world seat food servic brilliant c...</td>\n",
       "    </tr>\n",
       "    <tr>\n",
       "      <th>4</th>\n",
       "      <td>2</td>\n",
       "      <td>premium economi seat singapor airlin narrow se...</td>\n",
       "      <td>premium economi seat singapor airlin worth money</td>\n",
       "      <td>premium economi seat singapor airlin narrow se...</td>\n",
       "    </tr>\n",
       "  </tbody>\n",
       "</table>\n",
       "</div>"
      ],
      "text/plain": [
       "   rating                                               text  \\\n",
       "0       3  use airlin go singapor london heathrow issu ti...   \n",
       "1       5  servic singapor airlin suit class noth excel c...   \n",
       "2       1  book paid receiv email confirm extra legroom s...   \n",
       "3       5  best airlin world seat food servic brilliant c...   \n",
       "4       2  premium economi seat singapor airlin narrow se...   \n",
       "\n",
       "                                              title  \\\n",
       "0                                                ok   \n",
       "1          servic suit class make one feel like vip   \n",
       "2                                  don't give money   \n",
       "3                                 best airlin world   \n",
       "4  premium economi seat singapor airlin worth money   \n",
       "\n",
       "                                            all text  \n",
       "0  use airlin go singapor london heathrow issu ti...  \n",
       "1  servic singapor airlin suit class noth excel c...  \n",
       "2  book paid receiv email confirm extra legroom s...  \n",
       "3  best airlin world seat food servic brilliant c...  \n",
       "4  premium economi seat singapor airlin narrow se...  "
      ]
     },
     "execution_count": 5,
     "metadata": {},
     "output_type": "execute_result"
    },
    {
     "data": {
      "image/png": "[encoded data removed]",
      "text/plain": [
       "<Figure size 640x480 with 1 Axes>"
      ]
     },
     "metadata": {},
     "output_type": "display_data"
    }
   ],
   "source": [
    "data = data.loc[:,['rating','text','title']]\n",
    "data['text'] = data['text'].apply(shave_string)\n",
    "data['title'] = data['title'].apply(shave_string)\n",
    "data['all text'] = data['text'].astype(str) + data['title']\n",
    "data.plot.hist()\n",
    "data.head(5)"
   ]
  },
  {
   "cell_type": "code",
   "execution_count": 6,
   "id": "6ff77cc1-d344-495f-8618-b7d77a47074a",
   "metadata": {
    "tags": []
   },
   "outputs": [
    {
     "data": {
      "image/png": "[encoded data removed]",
      "text/plain": [
       "<Figure size 640x480 with 1 Axes>"
      ]
     },
     "metadata": {},
     "output_type": "display_data"
    },
    {
     "name": "stdout",
     "output_type": "stream",
     "text": [
      "0.6683966738096527 - результат логистической регрессии + bag of words.\n",
      "0.7143770319222276 - результат логистической регрессии + TD-IDF.\n"
     ]
    }
   ],
   "source": [
    "train, test = train_test_split(data, random_state=1)\n",
    "ranks = [1,1.5,2, 2.5, 3, 3.5, 4, 4.5, 5, 5.5]\n",
    "bow = CountVectorizer()\n",
    "x_train = bow.fit_transform(train['all text'])\n",
    "x_test = bow.transform(test['all text'])\n",
    "y_train = train['rating']\n",
    "y_test = test['rating']\n",
    "model = LogisticRegression()\n",
    "model.fit(x_train, y_train)\n",
    "y_pred = model.predict(x_test)\n",
    "plt.hist(y_pred, ranks)\n",
    "plt.title(\"LR prediction distribution\")\n",
    "plt.show()\n",
    "print(f'{f1_score(y_pred, y_test, average=\"weighted\")} - результат логистической регрессии + bag of words.')\n",
    "bow = TfidfVectorizer()\n",
    "x_train = bow.fit_transform(train['all text'])\n",
    "x_test = bow.transform(test['all text'])\n",
    "y_train = train['rating']\n",
    "y_test = test['rating']\n",
    "model = LogisticRegression()\n",
    "model.fit(x_train, y_train)\n",
    "y_pred = model.predict(x_test)\n",
    "print(f'{f1_score(y_pred, y_test, average=\"weighted\")} - результат логистической регрессии + TD-IDF.')"
   ]
  },
  {
   "cell_type": "markdown",
   "id": "24b33b8d-1a4d-4e51-b277-eeed5940a455",
   "metadata": {},
   "source": [
    "TF-IDF показал себя лучше (он и более сложный), продолжим его использовать."
   ]
  },
  {
   "cell_type": "code",
   "execution_count": 7,
   "id": "bc55c5e8-8985-42c1-90b8-c060e7961ca6",
   "metadata": {
    "tags": []
   },
   "outputs": [
    {
     "data": {
      "image/png": "[encoded data removed]",
      "text/plain": [
       "<Figure size 640x480 with 1 Axes>"
      ]
     },
     "metadata": {},
     "output_type": "display_data"
    },
    {
     "name": "stdout",
     "output_type": "stream",
     "text": [
      "0.7087243232034052 - результат линейного SVC + TD-IDF.\n"
     ]
    },
    {
     "data": {
      "image/png": "[encoded data removed]",
      "text/plain": [
       "<Figure size 640x480 with 1 Axes>"
      ]
     },
     "metadata": {},
     "output_type": "display_data"
    },
    {
     "name": "stdout",
     "output_type": "stream",
     "text": [
      "0.7171176264526471 - результат случайных лесов + TD-IDF.\n"
     ]
    }
   ],
   "source": [
    "from sklearn.svm import SVC\n",
    "model = SVC(kernel='linear', max_iter=20000)\n",
    "model.fit(x_train, y_train)\n",
    "lin_pred = model.predict(x_test)\n",
    "plt.hist(lin_pred, ranks)\n",
    "plt.title(\"SVC prediction distribution\")\n",
    "plt.show()\n",
    "print(f'{f1_score(lin_pred, y_test, average = \"weighted\")} - результат линейного SVC + TD-IDF.')\n",
    "from sklearn.ensemble import RandomForestClassifier\n",
    "model = RandomForestClassifier()\n",
    "model.fit(x_train,y_train)\n",
    "rfc_pred = model.predict(x_test)\n",
    "plt.hist(rfc_pred, ranks)\n",
    "plt.title(\"RFC prediction distribution\")\n",
    "plt.show()\n",
    "print(f'{f1_score(rfc_pred, y_test, average = \"weighted\")} - результат случайных лесов + TD-IDF.')\n"
   ]
  },
  {
   "cell_type": "raw",
   "id": "550cb123-0b29-44ee-b1ad-85d053d0e4a9",
   "metadata": {},
   "source": [
    "На гистограммах кол-ва предсказаний моделей для каждой из пяти оценок. Леса отработали плохо (почти все 5, немного 1) - вероятно, из-за нашей предметной области. Люди описывают одни и те же вещи про свой полет, модели не удается понять контекст. Регрессия и метод опорных векторов сработали достойно, у регрессии распределение близко к исходному датасету; У SVC с этим немного хуже, но для нас важнее разбивать отзывы на плохой/хороший (1-3 и 4-5), с чем модель справилась."
   ]
  },
  {
   "cell_type": "code",
   "execution_count": 8,
   "id": "649b27cd-7f85-413a-806f-0037143301df",
   "metadata": {
    "tags": []
   },
   "outputs": [
    {
     "name": "stdout",
     "output_type": "stream",
     "text": [
      "[5] [1]\n"
     ]
    }
   ],
   "source": [
    "model = SVC(kernel='linear', max_iter=20000)\n",
    "model.fit(x_train, y_train)\n",
    "g_text = \"The flight was pleasant. We were offered free place in business class suite. Sausage rolls were delicious. Best company\"\n",
    "b_text = \"Kick that nigger bitch of the plane! Damn, i hated my flight. Food was awful, it was cold, they scammed me for place in business seat. Worst company,dont give them money.\" \n",
    "g_vec = bow.transform([g_text])\n",
    "b_vec = bow.transform([b_text])\n",
    "g_res = model.predict(g_vec)\n",
    "b_res = model.predict(b_vec)\n",
    "print(g_res, b_res)                      "
   ]
  },
  {
   "cell_type": "markdown",
   "id": "f47b2dc4-9b48-4e7b-bba9-5e0d4a141ba9",
   "metadata": {
    "tags": []
   },
   "source": [
    "Ключевые слова помогают модели распознать отзыв. Good."
   ]
  }
 ],
 "metadata": {
  "kernelspec": {
   "display_name": "Python 3 (ipykernel)",
   "language": "python",
   "name": "python3"
  },
  "language_info": {
   "codemirror_mode": {
    "name": "ipython",
    "version": 3
   },
   "file_extension": ".py",
   "mimetype": "text/x-python",
   "name": "python",
   "nbconvert_exporter": "python",
   "pygments_lexer": "ipython3",
   "version": "3.11.5"
  }
 },
 "nbformat": 4,
 "nbformat_minor": 5
}
