{
 "cells": [
  {
   "cell_type": "code",
   "execution_count": 1,
   "id": "c51925ff-7ec8-406f-9d53-fe9228ea38fe",
   "metadata": {},
   "outputs": [
    {
     "data": {
      "text/plain": [
       "{'mean': 3.125, 'median': 2.0, 'mode': 1}"
      ]
     },
     "execution_count": 1,
     "metadata": {},
     "output_type": "execute_result"
    }
   ],
   "source": [
    "def listtodict(a : list):\n",
    "    avg = sum(a) / len(a)\n",
    "    a.sort()\n",
    "    if len(a) % 2 == 0:\n",
    "        ind = len(a) // 2\n",
    "        med = (a[ind] + a[ind-1])/2\n",
    "    else:\n",
    "        med = a[len(a)//2]\n",
    "    maxcnt = 0\n",
    "    for i in a:\n",
    "        icnt = a.count(i)\n",
    "        if icnt > maxcnt:\n",
    "            maxcnt = icnt\n",
    "            moda = i\n",
    "    result = {\"mean\":avg,\"median\":med,\"mode\":moda}\n",
    "    return result\n",
    "    \n",
    "listtodict([0, 1, 1, 1, 10, 5, 4, 3])\n",
    "\n",
    "    "
   ]
  },
  {
   "cell_type": "markdown",
   "id": "c413de68-1caf-4a8b-8904-9b44b4a605f1",
   "metadata": {},
   "source": [
    "Сначала считаем среднее avg, сортируем, находим медиану (либо средний элемент, либо среднее средних 2), потом находим моду за квадрат, собираем ответ и ретурним."
   ]
  },
  {
   "cell_type": "code",
   "execution_count": 2,
   "id": "f07395dc-7fee-4d42-bf0d-5f950ac0f29f",
   "metadata": {},
   "outputs": [
    {
     "name": "stdout",
     "output_type": "stream",
     "text": [
      "Больше всего ног у npc_dota_hero_broodmother\n"
     ]
    }
   ],
   "source": [
    "from typing import List, Dict\n",
    "def parse_csv(file_content: str) -> List[Dict]:\n",
    "    listt = file_content.split('\\n')[:-1]\n",
    "    keys = listt[0].split(',')\n",
    "    for i in range(1,len(listt)):\n",
    "        isplitted = listt[i].split(',',7)\n",
    "        idict = { keys[j]:isplitted[j] for j in range(1,8) }\n",
    "        listt[i-1] = idict\n",
    "    listt.pop()    \n",
    "    return listt    \n",
    "maxlegs = 0\n",
    "with open('data/dota_hero_stats.csv', 'r') as input:\n",
    "    parsed = parse_csv(input.read())\n",
    "for hero in parsed:\n",
    "    if int(hero['legs']) > maxlegs:\n",
    "        besthero = hero['name']\n",
    "        maxlegs = int(hero['legs'])\n",
    "print(\"Больше всего ног у\", besthero)\n",
    "    \n",
    "    "
   ]
  },
  {
   "cell_type": "markdown",
   "id": "46f25f78-dbd6-476e-879f-2243fbac2966",
   "metadata": {},
   "source": [
    "Cначала разбиваем на персонажей по \\n. Поскольку надо вернуть список словарей, берем ключи из первой строки. Разбиваем дату персонажей на словари, записываем в предыдущую ячейку (чтобы затерлась первая строка). Максимального по ногам персонажа находим за линейный проход. пакаут"
   ]
  }
 ],
 "metadata": {
  "kernelspec": {
   "display_name": "Python 3 (ipykernel)",
   "language": "python",
   "name": "python3"
  },
  "language_info": {
   "codemirror_mode": {
    "name": "ipython",
    "version": 3
   },
   "file_extension": ".py",
   "mimetype": "text/x-python",
   "name": "python",
   "nbconvert_exporter": "python",
   "pygments_lexer": "ipython3",
   "version": "3.11.7"
  }
 },
 "nbformat": 4,
 "nbformat_minor": 5
}
